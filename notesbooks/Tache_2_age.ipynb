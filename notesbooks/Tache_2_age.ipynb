{
 "cells": [
  {
   "cell_type": "markdown",
   "id": "5bd0b760",
   "metadata": {},
   "source": [
    "# Tâche 2 — Estimation de l'âge (Régression)\n",
    "\n",
    "## 1. Introduction & Objectifs\n",
    "- Objectif : prédire l’âge réel à partir d’une image.\n",
    "- Données : `data/train` (>40k images `XXXXXX_YZWW`), `data/test` (200 images `0`→`199`).\n",
    "- Livrables :\n",
    "  - `results/age_estimation/age_predictions.csv` (colonnes `image_id,predicted_age`)\n",
    "  - `models/age_estimation/age_estimation_best.pth`\n",
    "  - Notebook complet (ce fichier)"
   ]
  },
  {
   "cell_type": "markdown",
   "id": "992a9c38",
   "metadata": {},
   "source": [
    "## 2. Chargement des librairies & Configuration\n",
    "- Import des librairies\n",
    "- Lecture du fichier de config : `src/utils/config_t2.yaml`"
   ]
  },
  {
   "cell_type": "code",
   "execution_count": 21,
   "id": "2bafd37f",
   "metadata": {},
   "outputs": [
    {
     "name": "stdout",
     "output_type": "stream",
     "text": [
      "Configuration Tâche 2 chargée ✅\n",
      "AgeEstimationNet importé ✅\n"
     ]
    }
   ],
   "source": [
    "# === Rendre src importable depuis notebooks/ ===\n",
    "import os, sys\n",
    "sys.path.insert(0, os.path.abspath(\"..\"))\n",
    "\n",
    "# === Config YAML ===\n",
    "import yaml\n",
    "with open(\"../src/utils/config_t2.yaml\") as f:\n",
    "    config = yaml.safe_load(f)\n",
    "\n",
    "# === Imports modèle ===\n",
    "from src.models import AgeEstimationNet\n",
    "\n",
    "print(\"Configuration Tâche 2 chargée ✅\")\n",
    "print(\"AgeEstimationNet importé ✅\")"
   ]
  },
  {
   "cell_type": "markdown",
   "id": "cec3c82b",
   "metadata": {},
   "source": [
    "## 3. Exploration du dataset\n",
    "- Extraction des métadonnées depuis les noms de fichiers (ID, sexe, âge)\n",
    "- Analyse distributions (âge, sexe), exemples d’images"
   ]
  },
  {
   "cell_type": "code",
   "execution_count": 22,
   "id": "49c46ac5",
   "metadata": {},
   "outputs": [],
   "source": [
    "import os\n",
    "from torch.utils.data import Dataset, DataLoader\n",
    "from PIL import Image\n",
    "import torchvision.transforms as transforms\n",
    "\n",
    "class AgeDataset(Dataset):\n",
    "    def __init__(self, root_dir, transform=None):\n",
    "        self.root_dir = root_dir\n",
    "        self.transform = transform\n",
    "        self.samples = []\n",
    "\n",
    "        for fname in os.listdir(root_dir):\n",
    "            if fname.lower().endswith(\".jpg\") or fname.lower().endswith(\".png\"):\n",
    "                parts = fname.split(\"_\")\n",
    "                if len(parts) >= 2:\n",
    "                    info = parts[1]  # Exemple: \"0M25\"\n",
    "                    age_str = \"\".join([c for c in info if c.isdigit()])\n",
    "                    if age_str.isdigit():\n",
    "                        age = int(age_str)\n",
    "                        self.samples.append((fname, age))\n",
    "\n",
    "    def __len__(self):\n",
    "        return len(self.samples)\n",
    "\n",
    "    def __getitem__(self, idx):\n",
    "        fname, age = self.samples[idx]\n",
    "        img_path = os.path.join(self.root_dir, fname)\n",
    "        image = Image.open(img_path).convert(\"RGB\")\n",
    "\n",
    "        if self.transform:\n",
    "            image = self.transform(image)\n",
    "\n",
    "        return image, age\n",
    "\n",
    "\n",
    "# Configuration DataLoader\n",
    "transform = transforms.Compose([\n",
    "    transforms.Resize((224, 224)),\n",
    "    transforms.ToTensor()\n",
    "])\n",
    "\n",
    "train_loader_t2 = DataLoader(\n",
    "    AgeDataset(\"../data/tache2/train\", transform=transform),\n",
    "    batch_size=4,\n",
    "    shuffle=True\n",
    ")\n",
    "\n",
    "test_loader_t2 = DataLoader(\n",
    "    AgeDataset(\"../data/tache2/test\", transform=transform),\n",
    "    batch_size=4,\n",
    "    shuffle=False\n",
    ")\n"
   ]
  },
  {
   "cell_type": "markdown",
   "id": "0a91bc0c",
   "metadata": {},
   "source": [
    "## 4. Split Train/Validation (anti-fuite)\n",
    "- Détection/recadrage visage\n",
    "- Normalisation \n",
    "- Split par **ID** (pas par image)\n",
    "- Journaliser la proportion de chaque tranche d’âge"
   ]
  },
  {
   "cell_type": "code",
   "execution_count": 23,
   "id": "341c16c3",
   "metadata": {},
   "outputs": [
    {
     "name": "stdout",
     "output_type": "stream",
     "text": [
      "Batch images: torch.Size([4, 3, 224, 224]) | ages (extraits): tensor([31., 36., 54., 38.])\n"
     ]
    }
   ],
   "source": [
    "import os\n",
    "import torch\n",
    "from torch.utils.data import Dataset, DataLoader\n",
    "from PIL import Image\n",
    "import pandas as pd\n",
    "import torchvision.transforms as transforms\n",
    "\n",
    "# === Dataset ===\n",
    "class AgeDataset(Dataset):\n",
    "    def __init__(self, csv_file, root_dir, transform=None):\n",
    "        self.data = pd.read_csv(csv_file)\n",
    "        self.root_dir = root_dir\n",
    "        self.transform = transform\n",
    "\n",
    "    def __len__(self):\n",
    "        return len(self.data)\n",
    "\n",
    "    def __getitem__(self, idx):\n",
    "        row = self.data.iloc[idx]\n",
    "        img_name = str(row[\"image\"])\n",
    "        age = float(row[\"age\"])\n",
    "        img_path = os.path.join(self.root_dir, img_name)\n",
    "\n",
    "        image = Image.open(img_path).convert(\"RGB\")\n",
    "        if self.transform:\n",
    "            image = self.transform(image)\n",
    "\n",
    "        return image, torch.tensor(age, dtype=torch.float32)\n",
    "\n",
    "# === Chemins depuis le notebook (../ remonte à la racine) ===\n",
    "TRAIN_IMAGES = \"../\" + config[\"paths\"][\"train_dir\"]   # ../data/tache2/train\n",
    "VAL_IMAGES   = \"../\" + config[\"paths\"][\"train_dir\"]   # validation puise aussi dans train/\n",
    "TRAIN_LABELS = \"../data/tache2/train_labels.csv\"\n",
    "VAL_LABELS   = \"../data/tache2/val_labels.csv\"\n",
    "\n",
    "# === Transforms (rapide pour debug; passe à 224x224 pour entraînement final) ===\n",
    "transform = transforms.Compose([\n",
    "    transforms.Resize((224, 224)),\n",
    "    transforms.ToTensor()\n",
    "])\n",
    "\n",
    "# === DataLoaders ===\n",
    "train_loader_t2 = DataLoader(\n",
    "    AgeDataset(TRAIN_LABELS, TRAIN_IMAGES, transform=transform),\n",
    "    batch_size=config[\"training\"][\"batch_size\"],\n",
    "    shuffle=True,\n",
    "    num_workers=0  # macOS: 0\n",
    ")\n",
    "\n",
    "val_loader_t2 = DataLoader(\n",
    "    AgeDataset(VAL_LABELS, VAL_IMAGES, transform=transform),\n",
    "    batch_size=config[\"training\"][\"batch_size\"],\n",
    "    shuffle=False,\n",
    "    num_workers=0\n",
    ")\n",
    "\n",
    "# Test rapide\n",
    "images, ages = next(iter(train_loader_t2))\n",
    "print(\"Batch images:\", images.shape, \"| ages (extraits):\", ages[:8])"
   ]
  },
  {
   "cell_type": "markdown",
   "id": "da661e77",
   "metadata": {},
   "source": [
    "## 5. Modèle\n",
    "- Backbone moderne (type EfficientNet-like)\n",
    "- Tête de régression (sortie : âge)\n",
    "- Sauvegarde des poids dans `models/age_estimation/`"
   ]
  },
  {
   "cell_type": "code",
   "execution_count": 24,
   "id": "a5e56cad",
   "metadata": {},
   "outputs": [
    {
     "name": "stdout",
     "output_type": "stream",
     "text": [
      "✅ Device utilisé : mps\n",
      "[Epoch 1/1] Train MSE: 38.5305 | Val MSE: 39.6432\n",
      "💾 ✅ Meilleur modèle sauvegardé !\n"
     ]
    }
   ],
   "source": [
    "import torch\n",
    "import torch.nn as nn\n",
    "import torch.optim as optim\n",
    "import os, random\n",
    "import numpy as np\n",
    "\n",
    "# === Device ===\n",
    "device = torch.device(\"mps\" if torch.backends.mps.is_available() else \"cpu\")\n",
    "print(f\"✅ Device utilisé : {device}\")\n",
    "\n",
    "# === Seed (reproductibilité) ===\n",
    "seed = int(config[\"training\"].get(\"seed\", 42))\n",
    "random.seed(seed); np.random.seed(seed); torch.manual_seed(seed)\n",
    "\n",
    "# === Modèle ===\n",
    "model = AgeEstimationNet().to(device)\n",
    "\n",
    "# === Perte + Optimizer ===\n",
    "criterion = nn.MSELoss()\n",
    "optimizer = optim.Adam(model.parameters(), lr=config[\"training\"][\"learning_rate\"])\n",
    "\n",
    "# === Fonctions ===\n",
    "def train_one_epoch(loader, model, criterion, optimizer):\n",
    "    model.train()\n",
    "    running = 0.0\n",
    "    for images, ages in loader:\n",
    "        images = images.to(device)\n",
    "        ages   = ages.to(device)\n",
    "\n",
    "        optimizer.zero_grad()\n",
    "        preds = model(images)           # [B]\n",
    "        loss  = criterion(preds, ages)  # MSE\n",
    "        loss.backward()\n",
    "        optimizer.step()\n",
    "\n",
    "        running += loss.item()\n",
    "    return running / max(1, len(loader))\n",
    "\n",
    "@torch.no_grad()\n",
    "def evaluate(loader, model, criterion):\n",
    "    model.eval()\n",
    "    running = 0.0\n",
    "    for images, ages in loader:\n",
    "        images = images.to(device)\n",
    "        ages   = ages.to(device)\n",
    "        preds  = model(images)\n",
    "        loss   = criterion(preds, ages)\n",
    "        running += loss.item()\n",
    "    return running / max(1, len(loader))\n",
    "\n",
    "# === Dossier de sauvegarde ===\n",
    "MODEL_DIR = os.path.join(\"..\", config[\"paths\"][\"output_models\"])\n",
    "os.makedirs(MODEL_DIR, exist_ok=True)\n",
    "\n",
    "best_val = float(\"inf\")\n",
    "num_epochs = int(config[\"training\"][\"epochs\"])\n",
    "\n",
    "for epoch in range(num_epochs):\n",
    "    tr = train_one_epoch(train_loader_t2, model, criterion, optimizer)\n",
    "    va = evaluate(val_loader_t2, model, criterion)\n",
    "\n",
    "    print(f\"[Epoch {epoch+1}/{num_epochs}] Train MSE: {tr:.4f} | Val MSE: {va:.4f}\")\n",
    "\n",
    "    if va < best_val:\n",
    "        best_val = va\n",
    "        torch.save(model.state_dict(), os.path.join(MODEL_DIR, \"best.pth\"))\n",
    "        print(\"💾 ✅ Meilleur modèle sauvegardé !\")"
   ]
  },
  {
   "cell_type": "markdown",
   "id": "bd5c23cb",
   "metadata": {},
   "source": [
    "## 6. Entraînement\n",
    "- Perte principale : MAE (suivi RMSE)\n",
    "- Journal des métriques par epoch"
   ]
  },
  {
   "cell_type": "code",
   "execution_count": 26,
   "id": "7bafcab6",
   "metadata": {},
   "outputs": [
    {
     "name": "stdout",
     "output_type": "stream",
     "text": [
      "✅ CSV généré : ../results/age_estimation/val_predictions.csv | lignes : 4002\n"
     ]
    }
   ],
   "source": [
    "import os, torch, pandas as pd\n",
    "from src.models.age_estimation_model import AgeEstimationNet  # adapte le chemin si besoin\n",
    "\n",
    "device = torch.device(\"mps\" if torch.backends.mps.is_available() else \"cpu\")\n",
    "\n",
    "# Charger le meilleur modèle\n",
    "model = AgeEstimationNet().to(device)\n",
    "model.load_state_dict(torch.load(\"../models/age_estimation/best.pth\", map_location=device))\n",
    "model.eval()\n",
    "\n",
    "# Choisir un loader de validation\n",
    "# -> si tu as val_loader_t2, on l’utilise; sinon on tombe sur test_loader_t2\n",
    "loader = None\n",
    "if 'val_loader_t2' in globals():\n",
    "    loader = val_loader_t2\n",
    "elif 'test_loader_t2' in globals():\n",
    "    print(\"⚠️ val_loader_t2 introuvable → utilisation de test_loader_t2 pour la génération du CSV.\")\n",
    "    loader = test_loader_t2\n",
    "else:\n",
    "    raise RuntimeError(\"Aucun loader trouvé (val_loader_t2/test_loader_t2).\")\n",
    "\n",
    "# Inférence et enregistrement\n",
    "rows = []\n",
    "with torch.no_grad():\n",
    "    for imgs, ages_true in loader:\n",
    "        imgs = imgs.to(device)\n",
    "        preds = model(imgs).view(-1).cpu().numpy()   # prédictions [B]\n",
    "        ages_true = ages_true.numpy().astype(float)  # truths [B]\n",
    "        for t, p in zip(ages_true, preds):\n",
    "            rows.append({\"age_true\": float(t), \"age_pred\": float(p)})\n",
    "\n",
    "out_dir = \"../results/age_estimation\"\n",
    "os.makedirs(out_dir, exist_ok=True)\n",
    "csv_path = os.path.join(out_dir, \"val_predictions.csv\")\n",
    "pd.DataFrame(rows).to_csv(csv_path, index=False)\n",
    "print(\"✅ CSV généré :\", csv_path, \"| lignes :\", len(rows))\n"
   ]
  },
  {
   "cell_type": "markdown",
   "id": "38040f8f",
   "metadata": {},
   "source": [
    "## 7. Évaluation (Validation)\n",
    "- Métriques : MAE, RMSE\n",
    "- Histogrammes des erreurs et par tranches d’âge"
   ]
  },
  {
   "cell_type": "code",
   "execution_count": 27,
   "id": "c0320e31",
   "metadata": {},
   "outputs": [
    {
     "name": "stdout",
     "output_type": "stream",
     "text": [
      "MAE : 4.97\n",
      "RMSE: 6.30\n"
     ]
    },
    {
     "data": {
      "image/png": "[encoded data removed]",
      "text/plain": [
       "<Figure size 640x480 with 1 Axes>"
      ]
     },
     "metadata": {},
     "output_type": "display_data"
    }
   ],
   "source": [
    "from sklearn.metrics import mean_absolute_error, mean_squared_error\n",
    "import numpy as np\n",
    "import matplotlib.pyplot as plt\n",
    "import pandas as pd\n",
    "\n",
    "# Charger résultats val\n",
    "val_csv = \"../results/age_estimation/val_predictions.csv\"\n",
    "df = pd.read_csv(val_csv)\n",
    "\n",
    "# Sécuriser les types (au cas où)\n",
    "df[\"age_true\"] = pd.to_numeric(df[\"age_true\"], errors=\"coerce\")\n",
    "df[\"age_pred\"] = pd.to_numeric(df[\"age_pred\"], errors=\"coerce\")\n",
    "df = df.dropna(subset=[\"age_true\", \"age_pred\"])\n",
    "\n",
    "y_true = df[\"age_true\"].values\n",
    "y_pred = df[\"age_pred\"].values\n",
    "\n",
    "# Métriques\n",
    "mae  = mean_absolute_error(y_true, y_pred)\n",
    "rmse = np.sqrt(mean_squared_error(y_true, y_pred))\n",
    "\n",
    "print(f\"MAE : {mae:.2f}\")\n",
    "print(f\"RMSE: {rmse:.2f}\")\n",
    "\n",
    "# Scatter plot\n",
    "plt.figure()\n",
    "plt.scatter(y_true, y_pred, alpha=0.5)\n",
    "plt.xlabel(\"Âge réel\")\n",
    "plt.ylabel(\"Âge prédit\")\n",
    "plt.title(\"Âge réel vs Âge prédit\")\n",
    "mn, mx = float(np.min(y_true)), float(np.max(y_true))\n",
    "plt.plot([mn, mx], [mn, mx])   # diagonale (sans couleur imposée)\n",
    "plt.show()"
   ]
  },
  {
   "cell_type": "markdown",
   "id": "e47dc23c",
   "metadata": {},
   "source": [
    "## 8. Inférence sur Test\n",
    "- Générer `results/age_estimation/age_predictions.csv`\n",
    "- Colonnes : `image_id,predicted_age`"
   ]
  },
  {
   "cell_type": "code",
   "execution_count": 25,
   "id": "84476549",
   "metadata": {},
   "outputs": [
    {
     "name": "stdout",
     "output_type": "stream",
     "text": [
      "✅ Prédictions d'âge: 200 images\n",
      "💾 Fichier écrit: ../results/age_estimation/age_predictions.csv\n"
     ]
    }
   ],
   "source": [
    "import os\n",
    "import torch\n",
    "from torch.utils.data import DataLoader\n",
    "from PIL import Image\n",
    "import torchvision.transforms as transforms\n",
    "\n",
    "# === Chemins ===\n",
    "TEST_DIR = os.path.join(\"..\", config[\"paths\"][\"test_dir\"])               # ex: ../data/tache2/test\n",
    "OUT_DIR  = os.path.join(\"..\", config[\"paths\"][\"output_results\"])         # ex: ../results/age_estimation\n",
    "WEIGHTS  = os.path.join(\"..\", config[\"paths\"][\"output_models\"], \"best.pth\")\n",
    "os.makedirs(OUT_DIR, exist_ok=True)\n",
    "\n",
    "# === Paramètres d'évaluation ===\n",
    "age_min = int(config[\"evaluation\"].get(\"age_range_min\", 0))\n",
    "age_max = int(config[\"evaluation\"].get(\"age_range_max\", 100))\n",
    "\n",
    "# === Dataset test (image, filename) ===\n",
    "class AgeTestDataset(torch.utils.data.Dataset):\n",
    "    def __init__(self, root, transform=None):\n",
    "        self.root = root\n",
    "        self.transform = transform\n",
    "        self.files = [f for f in os.listdir(root) if f.lower().endswith((\".jpg\", \".png\", \".jpeg\"))]\n",
    "        self.files.sort()\n",
    "    def __len__(self): return len(self.files)\n",
    "    def __getitem__(self, idx):\n",
    "        fname = self.files[idx]\n",
    "        img   = Image.open(os.path.join(self.root, fname)).convert(\"RGB\")\n",
    "        if self.transform: img = self.transform(img)\n",
    "        return img, fname\n",
    "\n",
    "# === Transform identique à l'entraînement ===\n",
    "transform = transforms.Compose([\n",
    "    transforms.Resize((224, 224)),\n",
    "    transforms.ToTensor()\n",
    "])\n",
    "\n",
    "# === Device & modèle ===\n",
    "device = torch.device(\"mps\" if torch.backends.mps.is_available() else \"cpu\")\n",
    "model = AgeEstimationNet().to(device)\n",
    "assert os.path.isfile(WEIGHTS), f\"Poids introuvables: {WEIGHTS}\"\n",
    "model.load_state_dict(torch.load(WEIGHTS, map_location=device))\n",
    "model.eval()\n",
    "\n",
    "# === Inférence ===\n",
    "test_ds = AgeTestDataset(TEST_DIR, transform=transform)\n",
    "test_dl = DataLoader(test_ds, batch_size=64, shuffle=False)\n",
    "\n",
    "pred_rows = []\n",
    "with torch.no_grad():\n",
    "    for imgs, fnames in test_dl:\n",
    "        imgs = imgs.to(device)\n",
    "        preds = model(imgs).detach().cpu()  # valeurs réelles (float)\n",
    "        # clamp + round (souvent demandé par les challenges âge)\n",
    "        preds = preds.clamp(min=age_min, max=age_max).round().int().tolist()\n",
    "        for fn, age in zip(fnames, preds):\n",
    "            pred_rows.append((fn, int(age)))\n",
    "\n",
    "# === Sauvegarde CSV (filename,predicted_age) ===\n",
    "out_csv = os.path.join(OUT_DIR, \"age_predictions.csv\")\n",
    "with open(out_csv, \"w\") as f:\n",
    "    f.write(\"filename,predicted_age\\n\")\n",
    "    for fn, age in pred_rows:\n",
    "        f.write(f\"{fn},{age}\\n\")\n",
    "\n",
    "print(f\"✅ Prédictions d'âge: {len(pred_rows)} images\")\n",
    "print(f\"💾 Fichier écrit: {out_csv}\")\n"
   ]
  }
 ],
 "metadata": {
  "kernelspec": {
   "display_name": "Python 3",
   "language": "python",
   "name": "python3"
  },
  "language_info": {
   "codemirror_mode": {
    "name": "ipython",
    "version": 3
   },
   "file_extension": ".py",
   "mimetype": "text/x-python",
   "name": "python",
   "nbconvert_exporter": "python",
   "pygments_lexer": "ipython3",
   "version": "3.9.6"
  }
 },
 "nbformat": 4,
 "nbformat_minor": 5
}
